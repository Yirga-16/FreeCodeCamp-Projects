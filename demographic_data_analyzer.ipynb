import numpy as np 
import pandas as pd 

df = pd.read_csv('adult_data.csv')

df 

df.race.value_counts()

round(df.loc[df['sex'] == 'Male', 'age'].mean(), 1)

round(df.loc[df['education'] == 'Bachelors', 'education'].count() / df.shape[0] * 100, 1)

round(df[df['education'].isin(filters)].salary.value_counts(normalize=True)[1]*100, 1)


round(~df[df['education'].isin(filters)].salary.value_counts(normalize=True)[1]*100, 1)


df['hours-per-week'].min()

round(df[df['hours-per-week']==df['hours-per-week'].min()].salary.value_counts(normalize=True)[1]*100, 1)


richCounts = df[df.salary=='>50k'].groupby(['native-country']).count().salary 

totalCounts = df['native-country'].value_counts()

result = richCounts/totalCounts*100

result.idxmax()

round(result.max(), 1)


df[(df['native-country'] == "India") & (df['salary']==">50K")].occupation.value_counts().idxmax()



